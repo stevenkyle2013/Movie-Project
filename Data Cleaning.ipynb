{
 "cells": [
  {
   "cell_type": "markdown",
   "metadata": {},
   "source": [
    "## Data Cleaning"
   ]
  },
  {
   "cell_type": "markdown",
   "metadata": {},
   "source": [
    "First import necessary packages for cleaning and anything else that is needed."
   ]
  },
  {
   "cell_type": "code",
   "execution_count": 1,
   "metadata": {},
   "outputs": [],
   "source": [
    "import pandas as pd\n",
    "import numpy as np\n",
    "import os\n",
    "from pandasql import sqldf\n",
    "\n",
    "pysqldf = lambda q: sqldf(q, globals())\n",
    "pd.set_option('display.max_rows', 500)"
   ]
  },
  {
   "cell_type": "markdown",
   "metadata": {},
   "source": [
    "Loading data into dataframes"
   ]
  },
  {
   "cell_type": "code",
   "execution_count": 2,
   "metadata": {},
   "outputs": [],
   "source": [
    "Bommoviegross = pd.read_csv('./zippedData/bom.movie_gross.csv.gz')\n",
    "BomGross = pd.DataFrame(Bommoviegross)\n",
    "\n",
    "imdbname = pd.read_csv('./zippedData/imdb.name.basics.csv.gz')\n",
    "imdbName = pd.DataFrame(imdbname)\n",
    "\n",
    "imdbtitlea = pd.read_csv('./zippedData/imdb.title.akas.csv.gz')\n",
    "imdbTitleAkas = pd.DataFrame(imdbtitlea)\n",
    "\n",
    "imdbtitleb = pd.read_csv('./zippedData/imdb.title.basics.csv.gz')\n",
    "imdbTitleBasic = pd.DataFrame(imdbtitleb)\n",
    "\n",
    "imdbtitlec = pd.read_csv('./zippedData/imdb.title.crew.csv.gz')\n",
    "imdbTitleCrew = pd.DataFrame(imdbtitlec)\n",
    "\n",
    "imdbtitlep = pd.read_csv('./zippedData/imdb.title.principals.csv.gz')\n",
    "imdbTitlePrin = pd.DataFrame(imdbtitlep)\n",
    "\n",
    "imdbtitler = pd.read_csv('./zippedData/imdb.title.ratings.csv.gz')\n",
    "imdbTitleRat = pd.DataFrame(imdbtitler)\n",
    "\n",
    "rtmov = pd.read_csv('./zippedData/rt.movie_info.tsv.gz', sep='\\t')\n",
    "rtmovie = pd.DataFrame(rtmov)\n",
    "\n",
    "rtrev = pd.read_csv('./zippedData/rt.reviews.tsv.gz', sep='\\t', encoding= 'unicode_escape')\n",
    "rtreview = pd.DataFrame(rtrev)\n",
    "\n",
    "tmdb = pd.read_csv('./zippedData/tmdb.movies.csv.gz')\n",
    "tmdbmov = pd.DataFrame(tmdb)\n",
    "\n",
    "tnm = pd.read_csv('./zippedData/tn.movie_budgets.csv.gz')\n",
    "tnmmov = pd.DataFrame(tnm)"
   ]
  },
  {
   "cell_type": "code",
   "execution_count": 3,
   "metadata": {},
   "outputs": [],
   "source": [
    "#Joining imdb tables to make a master table\n",
    "q = '''SELECT *\n",
    "       FROM imdbTitleBasic\n",
    "       LEFT JOIN imdbTitleRat\n",
    "       USING (tconst)\n",
    "       Left JOIN imdbTitleCrew\n",
    "       USING (tconst)\n",
    "       ;\n",
    "    '''\n",
    "imdbMaster = pysqldf(q)\n",
    "\n",
    "#cleaning up directors and writers columns, putting in the actual names for imdbMaster table\n",
    "imdbMaster['directors'] = imdbMaster['directors'].astype(str)\n",
    "imdbMaster['writers'] = imdbMaster['writers'].astype(str)\n",
    "imdbMaster['directors'] = imdbMaster['directors'].map(lambda x: x.split(','))\n",
    "imdbMaster['writers'] = imdbMaster['writers'].map(lambda x: x.split(','))\n",
    "All_names = imdbName.set_index('nconst')['primary_name'].to_dict()\n",
    "DirectorNamesList = []\n",
    "for entry in imdbMaster['directors']:\n",
    "    DirectorNamesList.append([All_names.get(item,item) for item in entry])\n",
    "imdbMaster['Director_Names'] = DirectorNamesList\n",
    "WritersNamesList = []\n",
    "for entry in imdbMaster['writers']:\n",
    "    WritersNamesList.append([All_names.get(item,item) for item in entry])\n",
    "imdbMaster['Writers_Names'] = WritersNamesList"
   ]
  },
  {
   "cell_type": "code",
   "execution_count": 17,
   "metadata": {},
   "outputs": [],
   "source": [
    "#Cleaning up tnmfile\n",
    "\n",
    "#Dropping columns with $0 for domestic_gross and worldwide_gross (only 367 out of 5782 data entries: ~5%)\n",
    "df_to_drop1 = tnmmov.loc[(tnmmov['domestic_gross'] == '$0') & (tnmmov['worldwide_gross'] == '$0')] #throw these out\n",
    "newtnm = pd.concat([tnmmov,df_to_drop1]).drop_duplicates(keep=False)\n",
    "\n",
    "#Making production_budget, domestic_gross and worldwide_gross values to int instead of string\n",
    "newtnm['production_budget'] = newtnm.production_budget.map(lambda x: int(x.replace('$','').replace(',','')))\n",
    "newtnm['domestic_gross'] = newtnm.domestic_gross.map(lambda x: int(x.replace('$','').replace(',','')))\n",
    "newtnm['worldwide_gross'] = newtnm.worldwide_gross.map(lambda x: int(x.replace('$','').replace(',','')))\n",
    "\n",
    "#Dec 31 is a placeholder date (only 74 entries, lets throw out instead of looking up each movie date)\n",
    "#Total thrown out is 7.62% of original data\n",
    "df_to_drop2 = newtnm[newtnm.release_date.map(lambda x: x.startswith('Dec 31,'))]\n",
    "newtnmForDateComp = pd.concat([newtnm,df_to_drop2]).drop_duplicates(keep=False)\n",
    "#Lets make the release month and release year into new columns, will be easier to work with\n",
    "newtnmForDateComp['Release_Month'] = newtnmForDateComp['release_date'].map(lambda x: x[0:3])\n",
    "newtnmForDateComp['Release_Year'] = newtnmForDateComp['release_date'].map(lambda x: x[-4:])\n",
    "#Drop the id and release_date column to make it look nicer\n",
    "newtnmForDateComp = newtnmForDateComp.drop(columns = ['id','release_date'])"
   ]
  },
  {
   "cell_type": "code",
   "execution_count": 26,
   "metadata": {},
   "outputs": [],
   "source": [
    "#Cleaning up TMDB File\n",
    "\n",
    "#First drop the unnamed first column\n",
    "tmdbmov = tmdbmov.drop(tmdbmov.columns[0], axis = 1)"
   ]
  },
  {
   "cell_type": "code",
   "execution_count": 29,
   "metadata": {},
   "outputs": [
    {
     "data": {
      "text/plain": [
       "Eden                  7\n",
       "Home                  6\n",
       "Legend                5\n",
       "Lucky                 5\n",
       "Aftermath             5\n",
       "                     ..\n",
       "От винта 3D           1\n",
       "Les quatre sœurs      1\n",
       "Are You Here          1\n",
       "Girl in the Bunker    1\n",
       "世界最後の日々               1\n",
       "Name: original_title, Length: 24835, dtype: int64"
      ]
     },
     "execution_count": 29,
     "metadata": {},
     "output_type": "execute_result"
    }
   ],
   "source": [
    "tmdbmov.original_title.value_counts()"
   ]
  },
  {
   "cell_type": "code",
   "execution_count": 31,
   "metadata": {},
   "outputs": [],
   "source": [
    "test = tmdbmov[tmdbmov.original_title == 'Eden']"
   ]
  },
  {
   "cell_type": "code",
   "execution_count": 33,
   "metadata": {},
   "outputs": [
    {
     "data": {
      "text/plain": [
       "292086    3\n",
       "463839    3\n",
       "11976     3\n",
       "391872    3\n",
       "416572    3\n",
       "         ..\n",
       "356987    1\n",
       "350846    1\n",
       "479871    1\n",
       "500353    1\n",
       "524288    1\n",
       "Name: id, Length: 25497, dtype: int64"
      ]
     },
     "execution_count": 33,
     "metadata": {},
     "output_type": "execute_result"
    }
   ],
   "source": [
    "tmdbmov.id.value_counts()"
   ]
  },
  {
   "cell_type": "code",
   "execution_count": 35,
   "metadata": {},
   "outputs": [
    {
     "data": {
      "text/html": [
       "<div>\n",
       "<style scoped>\n",
       "    .dataframe tbody tr th:only-of-type {\n",
       "        vertical-align: middle;\n",
       "    }\n",
       "\n",
       "    .dataframe tbody tr th {\n",
       "        vertical-align: top;\n",
       "    }\n",
       "\n",
       "    .dataframe thead th {\n",
       "        text-align: right;\n",
       "    }\n",
       "</style>\n",
       "<table border=\"1\" class=\"dataframe\">\n",
       "  <thead>\n",
       "    <tr style=\"text-align: right;\">\n",
       "      <th></th>\n",
       "      <th>genre_ids</th>\n",
       "      <th>id</th>\n",
       "      <th>original_language</th>\n",
       "      <th>original_title</th>\n",
       "      <th>popularity</th>\n",
       "      <th>release_date</th>\n",
       "      <th>title</th>\n",
       "      <th>vote_average</th>\n",
       "      <th>vote_count</th>\n",
       "    </tr>\n",
       "  </thead>\n",
       "  <tbody>\n",
       "    <tr>\n",
       "      <th>5493</th>\n",
       "      <td>[18]</td>\n",
       "      <td>96599</td>\n",
       "      <td>en</td>\n",
       "      <td>Eden</td>\n",
       "      <td>6.877</td>\n",
       "      <td>2012-03-11</td>\n",
       "      <td>Eden</td>\n",
       "      <td>6.8</td>\n",
       "      <td>100</td>\n",
       "    </tr>\n",
       "    <tr>\n",
       "      <th>11604</th>\n",
       "      <td>[18, 10402]</td>\n",
       "      <td>283330</td>\n",
       "      <td>en</td>\n",
       "      <td>Eden</td>\n",
       "      <td>5.373</td>\n",
       "      <td>2015-06-19</td>\n",
       "      <td>Eden</td>\n",
       "      <td>5.8</td>\n",
       "      <td>57</td>\n",
       "    </tr>\n",
       "    <tr>\n",
       "      <th>13854</th>\n",
       "      <td>[]</td>\n",
       "      <td>446332</td>\n",
       "      <td>en</td>\n",
       "      <td>Eden</td>\n",
       "      <td>0.600</td>\n",
       "      <td>2014-10-04</td>\n",
       "      <td>Eden</td>\n",
       "      <td>5.0</td>\n",
       "      <td>2</td>\n",
       "    </tr>\n",
       "    <tr>\n",
       "      <th>14748</th>\n",
       "      <td>[18, 10402]</td>\n",
       "      <td>283330</td>\n",
       "      <td>en</td>\n",
       "      <td>Eden</td>\n",
       "      <td>5.373</td>\n",
       "      <td>2015-06-19</td>\n",
       "      <td>Eden</td>\n",
       "      <td>5.8</td>\n",
       "      <td>57</td>\n",
       "    </tr>\n",
       "    <tr>\n",
       "      <th>14989</th>\n",
       "      <td>[53, 18]</td>\n",
       "      <td>360339</td>\n",
       "      <td>en</td>\n",
       "      <td>Eden</td>\n",
       "      <td>3.061</td>\n",
       "      <td>2015-09-18</td>\n",
       "      <td>Eden</td>\n",
       "      <td>5.4</td>\n",
       "      <td>29</td>\n",
       "    </tr>\n",
       "    <tr>\n",
       "      <th>18019</th>\n",
       "      <td>[18, 10402]</td>\n",
       "      <td>283330</td>\n",
       "      <td>en</td>\n",
       "      <td>Eden</td>\n",
       "      <td>5.373</td>\n",
       "      <td>2015-06-19</td>\n",
       "      <td>Eden</td>\n",
       "      <td>5.8</td>\n",
       "      <td>57</td>\n",
       "    </tr>\n",
       "    <tr>\n",
       "      <th>26506</th>\n",
       "      <td>[]</td>\n",
       "      <td>561861</td>\n",
       "      <td>en</td>\n",
       "      <td>Eden</td>\n",
       "      <td>0.600</td>\n",
       "      <td>2018-11-25</td>\n",
       "      <td>Eden</td>\n",
       "      <td>0.0</td>\n",
       "      <td>1</td>\n",
       "    </tr>\n",
       "  </tbody>\n",
       "</table>\n",
       "</div>"
      ],
      "text/plain": [
       "         genre_ids      id original_language original_title  popularity  \\\n",
       "5493          [18]   96599                en           Eden       6.877   \n",
       "11604  [18, 10402]  283330                en           Eden       5.373   \n",
       "13854           []  446332                en           Eden       0.600   \n",
       "14748  [18, 10402]  283330                en           Eden       5.373   \n",
       "14989     [53, 18]  360339                en           Eden       3.061   \n",
       "18019  [18, 10402]  283330                en           Eden       5.373   \n",
       "26506           []  561861                en           Eden       0.600   \n",
       "\n",
       "      release_date title  vote_average  vote_count  \n",
       "5493    2012-03-11  Eden           6.8         100  \n",
       "11604   2015-06-19  Eden           5.8          57  \n",
       "13854   2014-10-04  Eden           5.0           2  \n",
       "14748   2015-06-19  Eden           5.8          57  \n",
       "14989   2015-09-18  Eden           5.4          29  \n",
       "18019   2015-06-19  Eden           5.8          57  \n",
       "26506   2018-11-25  Eden           0.0           1  "
      ]
     },
     "execution_count": 35,
     "metadata": {},
     "output_type": "execute_result"
    }
   ],
   "source": [
    "test"
   ]
  },
  {
   "cell_type": "code",
   "execution_count": null,
   "metadata": {},
   "outputs": [],
   "source": [
    "imdbTitlePrin.head()"
   ]
  },
  {
   "cell_type": "code",
   "execution_count": null,
   "metadata": {},
   "outputs": [],
   "source": [
    "imdbMaster.head()"
   ]
  },
  {
   "cell_type": "code",
   "execution_count": null,
   "metadata": {},
   "outputs": [],
   "source": []
  }
 ],
 "metadata": {
  "kernelspec": {
   "display_name": "Python 3",
   "language": "python",
   "name": "python3"
  },
  "language_info": {
   "codemirror_mode": {
    "name": "ipython",
    "version": 3
   },
   "file_extension": ".py",
   "mimetype": "text/x-python",
   "name": "python",
   "nbconvert_exporter": "python",
   "pygments_lexer": "ipython3",
   "version": "3.6.9"
  }
 },
 "nbformat": 4,
 "nbformat_minor": 2
}
