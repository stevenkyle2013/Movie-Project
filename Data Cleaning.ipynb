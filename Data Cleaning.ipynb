{
 "cells": [
  {
   "cell_type": "markdown",
   "metadata": {},
   "source": [
    "## Data Cleaning"
   ]
  },
  {
   "cell_type": "markdown",
   "metadata": {},
   "source": [
    "First import necessary packages for cleaning and anything else that is needed."
   ]
  },
  {
   "cell_type": "code",
   "execution_count": 40,
   "metadata": {},
   "outputs": [],
   "source": [
    "import pandas as pd\n",
    "import numpy as np\n",
    "import os\n",
    "from pandasql import sqldf\n",
    "import seaborn as sns\n",
    "import matplotlib.pyplot as plt\n",
    "\n",
    "pysqldf = lambda q: sqldf(q, globals())\n",
    "pd.set_option('display.max_rows', 500)\n",
    "pd.set_option('display.max_columns', 500)"
   ]
  },
  {
   "cell_type": "markdown",
   "metadata": {},
   "source": [
    "Loading data into dataframes"
   ]
  },
  {
   "cell_type": "code",
   "execution_count": 2,
   "metadata": {},
   "outputs": [],
   "source": [
    "Bommoviegross = pd.read_csv('./zippedData/bom.movie_gross.csv.gz')\n",
    "BomGross = pd.DataFrame(Bommoviegross)\n",
    "\n",
    "imdbname = pd.read_csv('./zippedData/imdb.name.basics.csv.gz')\n",
    "imdbName = pd.DataFrame(imdbname)\n",
    "\n",
    "imdbtitlea = pd.read_csv('./zippedData/imdb.title.akas.csv.gz')\n",
    "imdbTitleAkas = pd.DataFrame(imdbtitlea)\n",
    "\n",
    "imdbtitleb = pd.read_csv('./zippedData/imdb.title.basics.csv.gz')\n",
    "imdbTitleBasic = pd.DataFrame(imdbtitleb)\n",
    "\n",
    "imdbtitlec = pd.read_csv('./zippedData/imdb.title.crew.csv.gz')\n",
    "imdbTitleCrew = pd.DataFrame(imdbtitlec)\n",
    "\n",
    "imdbtitlep = pd.read_csv('./zippedData/imdb.title.principals.csv.gz')\n",
    "imdbTitlePrin = pd.DataFrame(imdbtitlep)\n",
    "\n",
    "imdbtitler = pd.read_csv('./zippedData/imdb.title.ratings.csv.gz')\n",
    "imdbTitleRat = pd.DataFrame(imdbtitler)\n",
    "\n",
    "rtmov = pd.read_csv('./zippedData/rt.movie_info.tsv.gz', sep='\\t')\n",
    "rtmovie = pd.DataFrame(rtmov)\n",
    "\n",
    "rtrev = pd.read_csv('./zippedData/rt.reviews.tsv.gz', sep='\\t', encoding= 'unicode_escape')\n",
    "rtreview = pd.DataFrame(rtrev)\n",
    "\n",
    "tmdb = pd.read_csv('./zippedData/tmdb.movies.csv.gz')\n",
    "tmdbmov = pd.DataFrame(tmdb)\n",
    "\n",
    "tnm = pd.read_csv('./zippedData/tn.movie_budgets.csv.gz')\n",
    "tnmmov = pd.DataFrame(tnm)"
   ]
  },
  {
   "cell_type": "markdown",
   "metadata": {},
   "source": [
    "Functions For notebook"
   ]
  },
  {
   "cell_type": "code",
   "execution_count": 3,
   "metadata": {},
   "outputs": [],
   "source": [
    "def BustinOut(Dataframe, Column, DictionaryOfNames):\n",
    "    row_count = 0\n",
    "    \n",
    "    Names = DictionaryOfNames.values()\n",
    "    DictionaryOfNames_List = {}\n",
    "    for name in Names:\n",
    "        DictionaryOfNames_List[name] = []\n",
    "    \n",
    "    for row in Dataframe[Column]:\n",
    "        for x in row:\n",
    "            for k,v in DictionaryOfNames_List.items():\n",
    "                if x == k:\n",
    "                    v.append(1)\n",
    "        for k,v in DictionaryOfNames_List.items():\n",
    "            if len(v) <= row_count:\n",
    "                v.append(0)\n",
    "        row_count += 1\n",
    "    \n",
    "    for k,v in DictionaryOfNames_List.items():\n",
    "        Dataframe[k] = v\n",
    "    \n",
    "    return Dataframe"
   ]
  },
  {
   "cell_type": "markdown",
   "metadata": {},
   "source": [
    "Cleaning up Tables"
   ]
  },
  {
   "cell_type": "code",
   "execution_count": 4,
   "metadata": {},
   "outputs": [],
   "source": [
    "#This table is going to be used for Review/Ratings for directors/writers (IMDB)\n",
    "\n",
    "#Joining imdb tables to make a master table\n",
    "q = '''SELECT *\n",
    "       FROM imdbTitleBasic\n",
    "       LEFT JOIN imdbTitleRat\n",
    "       USING (tconst)\n",
    "       Left JOIN imdbTitleCrew\n",
    "       USING (tconst)\n",
    "       ;\n",
    "    '''\n",
    "imdbMaster = pysqldf(q)\n",
    "\n",
    "#cleaning up directors and writers columns, putting in the actual names for imdbMaster table\n",
    "imdbMaster['directors'] = imdbMaster['directors'].astype(str)\n",
    "imdbMaster['writers'] = imdbMaster['writers'].astype(str)\n",
    "imdbMaster['directors'] = imdbMaster['directors'].map(lambda x: x.split(','))\n",
    "imdbMaster['writers'] = imdbMaster['writers'].map(lambda x: x.split(','))\n",
    "All_names = imdbName.set_index('nconst')['primary_name'].to_dict()\n",
    "DirectorNamesList = []\n",
    "for entry in imdbMaster['directors']:\n",
    "    DirectorNamesList.append([All_names.get(item,item) for item in entry])\n",
    "imdbMaster['Director_Names'] = DirectorNamesList\n",
    "WritersNamesList = []\n",
    "for entry in imdbMaster['writers']:\n",
    "    WritersNamesList.append([All_names.get(item,item) for item in entry])\n",
    "imdbMaster['Writers_Names'] = WritersNamesList\n",
    "\n",
    "#Some Writers have ['None'] so putting nan values in so when I add up the writers it wont think None is an actual\n",
    "#Writer\n",
    "imdbMaster = imdbMaster.applymap(lambda x: np.nan if x == ['None'] else x)\n",
    "\n",
    "#Making new rows of number of directors and number of writers\n",
    "imdbMaster['Num_of_Directors'] = imdbMaster['Director_Names'].map(lambda x: len(x) if type(x)==list else 0)\n",
    "imdbMaster['Num_of_Writers'] = imdbMaster['Writers_Names'].map(lambda x: len(x) if type(x)==list else 0)\n",
    "\n",
    "#Drop Anything with a missing rating\n",
    "imdbMaster = imdbMaster.dropna(subset=['averagerating'])"
   ]
  },
  {
   "cell_type": "code",
   "execution_count": 5,
   "metadata": {},
   "outputs": [],
   "source": [
    "#Cleaning up tnmfile\n",
    "#This table is going to be used for Budget/Gross Comparison and during the season\n",
    "\n",
    "#Dropping columns with $0 for domestic_gross and worldwide_gross (only 367 out of 5782 data entries: ~5%)\n",
    "df_to_drop1 = tnmmov.loc[(tnmmov['domestic_gross'] == '$0') & (tnmmov['worldwide_gross'] == '$0')] #throw these out\n",
    "newtnm = pd.concat([tnmmov,df_to_drop1]).drop_duplicates(keep=False)\n",
    "\n",
    "#Making production_budget, domestic_gross and worldwide_gross values to int instead of string\n",
    "newtnm['production_budget'] = newtnm.production_budget.map(lambda x: int(x.replace('$','').replace(',','')))\n",
    "newtnm['domestic_gross'] = newtnm.domestic_gross.map(lambda x: int(x.replace('$','').replace(',','')))\n",
    "newtnm['worldwide_gross'] = newtnm.worldwide_gross.map(lambda x: int(x.replace('$','').replace(',','')))\n",
    "\n",
    "#Dec 31 is a placeholder date (only 74 entries, lets throw out instead of looking up each movie date)\n",
    "#Total thrown out is 7.62% of original data\n",
    "df_to_drop2 = newtnm[newtnm.release_date.map(lambda x: x.startswith('Dec 31,'))]\n",
    "newtnmForDateComp = pd.concat([newtnm,df_to_drop2]).drop_duplicates(keep=False)\n",
    "#Lets make the release month and release year into new columns, will be easier to work with\n",
    "newtnmForDateComp['Release_Month'] = newtnmForDateComp['release_date'].map(lambda x: x[0:3])\n",
    "newtnmForDateComp['Release_Year'] = newtnmForDateComp['release_date'].map(lambda x: x[-4:])\n",
    "#Drop the id and release_date column to make it look nicer\n",
    "newtnmForDateComp = newtnmForDateComp.drop(columns = ['id','release_date'])"
   ]
  },
  {
   "cell_type": "code",
   "execution_count": 6,
   "metadata": {},
   "outputs": [],
   "source": [
    "#Cleaning up TMDB File\n",
    "#This table is going to be used for Genre/Popularity comparison\n",
    "\n",
    "#First drop the unnamed first column\n",
    "tmdbmov = tmdbmov.drop(tmdbmov.columns[0], axis = 1)\n",
    "#Lets drop exact duplicate columns\n",
    "newtmdb = tmdbmov.drop_duplicates()\n",
    "#Dropping rows that don't have genre values, because that's what we're interested in for this dataframe\n",
    "df_to_drop3 = newtmdb[newtmdb.genre_ids == '[]']\n",
    "newtmdb = pd.concat([newtmdb,df_to_drop3]).drop_duplicates(keep=False)"
   ]
  },
  {
   "cell_type": "code",
   "execution_count": 7,
   "metadata": {},
   "outputs": [],
   "source": [
    "#Continuing to clean up TMDB File\n",
    "#Adding a new column that'll have the actual GenreNames in it\n",
    "\n",
    "newGenreKey = {'28':'Action', '12':'Adventure', '16':'Animation', '35':'Comedy', '80':'Crime', '99':'Documentary',\n",
    "               '18':'Drama', '10751':'Family', '14':'Fantasy', '36':'History', '27':'Horror', '10402':'Music',\n",
    "               '9648':'Mystery', '10749':'Romance', '878':'Science Fiction', '10770':'TV Movie', '53':'Thriller',\n",
    "               '10752':'War', '37':'Western'}\n",
    "newtmdb['genre_ids'] = newtmdb['genre_ids'].map(lambda x: \n",
    "                                                     x.replace('[','').replace(']','').replace(' ','').split(','))\n",
    "GenreNamesList = []\n",
    "for entry in newtmdb['genre_ids']:\n",
    "    GenreNamesList.append([newGenreKey.get(item,item) for item in entry])\n",
    "newtmdb['Genre_Names'] = GenreNamesList\n",
    "\n",
    "#Bringing out the Genre_Names column and making each genre a different column\n",
    "BustinOut(newtmdb, 'Genre_Names', newGenreKey)\n",
    "\n",
    "#Dropping genre_ids column and id, make it look neater\n",
    "newtmdb = newtmdb.drop(columns = ['genre_ids', 'id'])"
   ]
  },
  {
   "cell_type": "markdown",
   "metadata": {},
   "source": [
    "# Ploting the Data"
   ]
  },
  {
   "cell_type": "markdown",
   "metadata": {},
   "source": [
    "First Question: What Genre is the most popular?"
   ]
  },
  {
   "cell_type": "code",
   "execution_count": 56,
   "metadata": {},
   "outputs": [
    {
     "data": {
      "text/plain": [
       "<matplotlib.axes._subplots.AxesSubplot at 0x7f888a849e80>"
      ]
     },
     "execution_count": 56,
     "metadata": {},
     "output_type": "execute_result"
    },
    {
     "data": {
      "image/png": "[encoded data removed]",
      "text/plain": [
       "<Figure size 432x288 with 1 Axes>"
      ]
     },
     "metadata": {
      "needs_background": "light"
     },
     "output_type": "display_data"
    }
   ],
   "source": [
    "ListOfGenres = list(newGenreKey.values())\n",
    "GenrePopTables = {}\n",
    "for genre in ListOfGenres:\n",
    "    GenrePopTables[genre] = newtmdb[newtmdb[genre]==1]\n",
    "ActionData = GenrePopTables['Action']\n",
    "AdventureData = GenrePopTables['Adventure']\n",
    "AnimationData = GenrePopTables['Animation']\n",
    "ComedyData = GenrePopTables['Comedy']\n",
    "CrimeData = GenrePopTables['Crime']\n",
    "DocumentaryData = GenrePopTables['Documentary']\n",
    "DramaData = GenrePopTables['Drama']\n",
    "FamilyData = GenrePopTables['Family']\n",
    "FantasyData = GenrePopTables['Fantasy']\n",
    "HistoryData = GenrePopTables['History']\n",
    "HorrorData = GenrePopTables['Horror']\n",
    "MusicData = GenrePopTables['Music']\n",
    "MysteryData = GenrePopTables['Mystery']\n",
    "RomanceData = GenrePopTables['Romance']\n",
    "ScienceFictionData = GenrePopTables['Science Fiction']\n",
    "TVMovieData = GenrePopTables['TV Movie']\n",
    "ThrillerData = GenrePopTables['Thriller']\n",
    "WarData = GenrePopTables['War']\n",
    "WesternData = GenrePopTables['Western']\n",
    "\n",
    "\n",
    "concatenated = pd.concat([ActionData.assign(dataset='Action'), AdventureData.assign(dataset='Adventure'),\n",
    "                         AnimationData.assign(dataset='Animation'), ComedyData.assign(dataset='Comedy'),\n",
    "                         CrimeData.assign(dataset='Crime'), DocumentaryData.assign(dataset='Documentary'),\n",
    "                         DramaData.assign(dataset='Drama'), FamilyData.assign(dataset='Family'),\n",
    "                         FantasyData.assign(dataset='Fantasy'), HistoryData.assign(dataset='History'),\n",
    "                         HorrorData.assign(dataset='Horror'), MusicData.assign(dataset='Music'),\n",
    "                         MysteryData.assign(dataset='Mystery'), RomanceData.assign(dataset='Romance'),\n",
    "                         ScienceFictionData.assign(dataset='Science Fiction'),\n",
    "                         TVMovieData.assign(dataset='TV Movie'),\n",
    "                         ThrillerData.assign(dataset='Thriller'), WarData.assign(dataset='War'),\n",
    "                         WesternData.assign(dataset='Western')])\n",
    "\n",
    "\n",
    "sns.boxplot(x='dataset',y='popularity',data=concatenated)\n"
   ]
  },
  {
   "cell_type": "markdown",
   "metadata": {},
   "source": [
    "Second Question: Is there a time of year movies make more money?"
   ]
  },
  {
   "cell_type": "markdown",
   "metadata": {},
   "source": [
    "Third Question: Are some genres more popular during certain times of the year?"
   ]
  },
  {
   "cell_type": "markdown",
   "metadata": {},
   "source": [
    "Fourth Question: Should there be a cap on budget?"
   ]
  },
  {
   "cell_type": "markdown",
   "metadata": {},
   "source": [
    "Fifth Question: Is there specific Dirctors/Writers we want to hire?"
   ]
  },
  {
   "cell_type": "code",
   "execution_count": 23,
   "metadata": {},
   "outputs": [
    {
     "data": {
      "text/plain": [
       "{'28': 'Action',\n",
       " '12': 'Adventure',\n",
       " '16': 'Animation',\n",
       " '35': 'Comedy',\n",
       " '80': 'Crime',\n",
       " '99': 'Documentary',\n",
       " '18': 'Drama',\n",
       " '10751': 'Family',\n",
       " '14': 'Fantasy',\n",
       " '36': 'History',\n",
       " '27': 'Horror',\n",
       " '10402': 'Music',\n",
       " '9648': 'Mystery',\n",
       " '10749': 'Romance',\n",
       " '878': 'Science Fiction',\n",
       " '10770': 'TV Movie',\n",
       " '53': 'Thriller',\n",
       " '10752': 'War',\n",
       " '37': 'Western'}"
      ]
     },
     "execution_count": 23,
     "metadata": {},
     "output_type": "execute_result"
    }
   ],
   "source": [
    "newGenreKey"
   ]
  },
  {
   "cell_type": "code",
   "execution_count": null,
   "metadata": {},
   "outputs": [],
   "source": []
  }
 ],
 "metadata": {
  "kernelspec": {
   "display_name": "Python 3",
   "language": "python",
   "name": "python3"
  },
  "language_info": {
   "codemirror_mode": {
    "name": "ipython",
    "version": 3
   },
   "file_extension": ".py",
   "mimetype": "text/x-python",
   "name": "python",
   "nbconvert_exporter": "python",
   "pygments_lexer": "ipython3",
   "version": "3.6.9"
  }
 },
 "nbformat": 4,
 "nbformat_minor": 2
}
