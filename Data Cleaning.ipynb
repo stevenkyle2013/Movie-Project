{
 "cells": [
  {
   "cell_type": "markdown",
   "metadata": {},
   "source": [
    "## Data Cleaning"
   ]
  },
  {
   "cell_type": "markdown",
   "metadata": {},
   "source": [
    "First import necessary packages for cleaning and anything else that is needed."
   ]
  },
  {
   "cell_type": "code",
   "execution_count": 1,
   "metadata": {},
   "outputs": [],
   "source": [
    "import pandas as pd\n",
    "import numpy as np\n",
    "import os\n",
    "from pandasql import sqldf\n",
    "\n",
    "pysqldf = lambda q: sqldf(q, globals())\n",
    "pd.set_option('display.max_rows', 500)"
   ]
  },
  {
   "cell_type": "markdown",
   "metadata": {},
   "source": [
    "Loading data into dataframes"
   ]
  },
  {
   "cell_type": "code",
   "execution_count": 10,
   "metadata": {},
   "outputs": [],
   "source": [
    "Bommoviegross = pd.read_csv('./zippedData/bom.movie_gross.csv.gz')\n",
    "BomGross = pd.DataFrame(Bommoviegross)\n",
    "\n",
    "imdbname = pd.read_csv('./zippedData/imdb.name.basics.csv.gz')\n",
    "imdbName = pd.DataFrame(imdbname)\n",
    "\n",
    "imdbtitlea = pd.read_csv('./zippedData/imdb.title.akas.csv.gz')\n",
    "imdbTitleAkas = pd.DataFrame(imdbtitlea)\n",
    "\n",
    "imdbtitleb = pd.read_csv('./zippedData/imdb.title.basics.csv.gz')\n",
    "imdbTitleBasic = pd.DataFrame(imdbtitleb)\n",
    "\n",
    "imdbtitlec = pd.read_csv('./zippedData/imdb.title.crew.csv.gz')\n",
    "imdbTitleCrew = pd.DataFrame(imdbtitlec)\n",
    "\n",
    "imdbtitlep = pd.read_csv('./zippedData/imdb.title.principals.csv.gz')\n",
    "imdbTitlePrin = pd.DataFrame(imdbtitlep)\n",
    "\n",
    "imdbtitler = pd.read_csv('./zippedData/imdb.title.ratings.csv.gz')\n",
    "imdbTitleRat = pd.DataFrame(imdbtitler)\n",
    "\n",
    "rtmov = pd.read_csv('./zippedData/rt.movie_info.tsv.gz', sep='\\t')\n",
    "rtmovie = pd.DataFrame(rtmov)\n",
    "\n",
    "rtrev = pd.read_csv('./zippedData/rt.reviews.tsv.gz', sep='\\t', encoding= 'unicode_escape')\n",
    "rtreview = pd.DataFrame(rtrev)\n",
    "\n",
    "tmdb = pd.read_csv('./zippedData/tmdb.movies.csv.gz')\n",
    "tmdbmov = pd.DataFrame(tmdb)\n",
    "\n",
    "tnm = pd.read_csv('./zippedData/tn.movie_budgets.csv.gz')\n",
    "tnmmov = pd.DataFrame(tnm)"
   ]
  },
  {
   "cell_type": "code",
   "execution_count": 3,
   "metadata": {},
   "outputs": [],
   "source": [
    "#Joining imdb tables to make a master table\n",
    "q = '''SELECT *\n",
    "       FROM imdbTitleBasic\n",
    "       LEFT JOIN imdbTitleRat\n",
    "       USING (tconst)\n",
    "       Left JOIN imdbTitleCrew\n",
    "       USING (tconst)\n",
    "       ;\n",
    "    '''\n",
    "imdbMaster = pysqldf(q)\n",
    "\n",
    "#cleaning up directors and writers columns, putting in the actual names for imdbMaster table\n",
    "imdbMaster['directors'] = imdbMaster['directors'].astype(str)\n",
    "imdbMaster['writers'] = imdbMaster['writers'].astype(str)\n",
    "imdbMaster['directors'] = imdbMaster['directors'].map(lambda x: x.split(','))\n",
    "imdbMaster['writers'] = imdbMaster['writers'].map(lambda x: x.split(','))\n",
    "All_names = imdbName.set_index('nconst')['primary_name'].to_dict()\n",
    "DirectorNamesList = []\n",
    "for entry in imdbMaster['directors']:\n",
    "    DirectorNamesList.append([All_names.get(item,item) for item in entry])\n",
    "imdbMaster['Director_Names'] = DirectorNamesList\n",
    "WritersNamesList = []\n",
    "for entry in imdbMaster['writers']:\n",
    "    WritersNamesList.append([All_names.get(item,item) for item in entry])\n",
    "imdbMaster['Writers_Names'] = WritersNamesList"
   ]
  },
  {
   "cell_type": "code",
   "execution_count": 4,
   "metadata": {},
   "outputs": [],
   "source": [
    "#Cleaning up tnmfile\n",
    "\n",
    "#Dropping columns with $0 for domestic_gross and worldwide_gross (only 367 out of 5782 data entries: ~5%)\n",
    "df_to_drop1 = tnmmov.loc[(tnmmov['domestic_gross'] == '$0') & (tnmmov['worldwide_gross'] == '$0')] #throw these out\n",
    "newtnm = pd.concat([tnmmov,df_to_drop1]).drop_duplicates(keep=False)\n",
    "\n",
    "#Making production_budget, domestic_gross and worldwide_gross values to int instead of string\n",
    "newtnm['production_budget'] = newtnm.production_budget.map(lambda x: int(x.replace('$','').replace(',','')))\n",
    "newtnm['domestic_gross'] = newtnm.domestic_gross.map(lambda x: int(x.replace('$','').replace(',','')))\n",
    "newtnm['worldwide_gross'] = newtnm.worldwide_gross.map(lambda x: int(x.replace('$','').replace(',','')))\n",
    "\n",
    "#Dec 31 is a placeholder date (only 74 entries, lets throw out instead of looking up each movie date)\n",
    "#Total thrown out is 7.62% of original data\n",
    "df_to_drop2 = newtnm[newtnm.release_date.map(lambda x: x.startswith('Dec 31,'))]\n",
    "newtnmForDateComp = pd.concat([newtnm,df_to_drop2]).drop_duplicates(keep=False)\n",
    "#Lets make the release month and release year into new columns, will be easier to work with\n",
    "newtnmForDateComp['Release_Month'] = newtnmForDateComp['release_date'].map(lambda x: x[0:3])\n",
    "newtnmForDateComp['Release_Year'] = newtnmForDateComp['release_date'].map(lambda x: x[-4:])\n",
    "#Drop the id and release_date column to make it look nicer\n",
    "newtnmForDateComp = newtnmForDateComp.drop(columns = ['id','release_date'])"
   ]
  },
  {
   "cell_type": "code",
   "execution_count": 11,
   "metadata": {},
   "outputs": [],
   "source": [
    "#Cleaning up TMDB File\n",
    "\n",
    "#First drop the unnamed first column\n",
    "tmdbmov = tmdbmov.drop(tmdbmov.columns[0], axis = 1)\n",
    "#Lets drop exact duplicate columns\n",
    "newtmdb = tmdbmov.drop_duplicates()\n",
    "\n",
    "#Next lets fill genre column with actual names\n",
    "#Drop blank rows for genre\n",
    "\n",
    "\n",
    "\n",
    "#Dropping Bad \"Eden\" movies\n",
    "#todrop1 = newtmdb[(newtmdb['id'] == 409371) | (newtmdb['id'] == 388223)].index\n",
    "#newtmdb.drop(todrop1 , inplace=True)\n",
    "#Dropping Bad \"Lucky\" movies\n",
    "#todrop2 = newtmdb[(newtmdb['id'] == 602984) | (newtmdb['id'] == 461974)].index\n",
    "#newtmdb.drop(todrop2 , inplace=True)"
   ]
  },
  {
   "cell_type": "code",
   "execution_count": 18,
   "metadata": {},
   "outputs": [
    {
     "data": {
      "text/plain": [
       "Lucky                   5\n",
       "Aftermath               5\n",
       "Truth or Dare           5\n",
       "Eden                    5\n",
       "Delirium                4\n",
       "                       ..\n",
       "Below Zero              1\n",
       "The Arrival             1\n",
       "My Sex Robot            1\n",
       "Revolt                  1\n",
       "The Millionaire Tour    1\n",
       "Name: original_title, Length: 24835, dtype: int64"
      ]
     },
     "execution_count": 18,
     "metadata": {},
     "output_type": "execute_result"
    }
   ],
   "source": [
    "newtmdb.original_title.value_counts()"
   ]
  },
  {
   "cell_type": "code",
   "execution_count": 44,
   "metadata": {},
   "outputs": [],
   "source": [
    "test = newtmdb[newtmdb.vote_count < 2]"
   ]
  },
  {
   "cell_type": "code",
   "execution_count": 47,
   "metadata": {},
   "outputs": [
    {
     "data": {
      "text/plain": [
       "<bound method Series.max of 0        33.533\n",
       "1        28.734\n",
       "2        28.515\n",
       "3        28.005\n",
       "4        27.920\n",
       "          ...  \n",
       "26512     0.600\n",
       "26513     0.600\n",
       "26514     0.600\n",
       "26515     0.600\n",
       "26516     0.600\n",
       "Name: popularity, Length: 25495, dtype: float64>"
      ]
     },
     "execution_count": 47,
     "metadata": {},
     "output_type": "execute_result"
    }
   ],
   "source": [
    "newtmdb.popularity.max"
   ]
  },
  {
   "cell_type": "code",
   "execution_count": 28,
   "metadata": {},
   "outputs": [
    {
     "data": {
      "text/plain": [
       "25495"
      ]
     },
     "execution_count": 28,
     "metadata": {},
     "output_type": "execute_result"
    }
   ],
   "source": [
    "len(newtmdb)"
   ]
  },
  {
   "cell_type": "code",
   "execution_count": 43,
   "metadata": {},
   "outputs": [
    {
     "data": {
      "text/html": [
       "<div>\n",
       "<style scoped>\n",
       "    .dataframe tbody tr th:only-of-type {\n",
       "        vertical-align: middle;\n",
       "    }\n",
       "\n",
       "    .dataframe tbody tr th {\n",
       "        vertical-align: top;\n",
       "    }\n",
       "\n",
       "    .dataframe thead th {\n",
       "        text-align: right;\n",
       "    }\n",
       "</style>\n",
       "<table border=\"1\" class=\"dataframe\">\n",
       "  <thead>\n",
       "    <tr style=\"text-align: right;\">\n",
       "      <th></th>\n",
       "      <th>tconst</th>\n",
       "      <th>primary_title</th>\n",
       "      <th>original_title</th>\n",
       "      <th>start_year</th>\n",
       "      <th>runtime_minutes</th>\n",
       "      <th>genres</th>\n",
       "      <th>averagerating</th>\n",
       "      <th>numvotes</th>\n",
       "      <th>directors</th>\n",
       "      <th>writers</th>\n",
       "      <th>Director_Names</th>\n",
       "      <th>Writers_Names</th>\n",
       "    </tr>\n",
       "  </thead>\n",
       "  <tbody>\n",
       "    <tr>\n",
       "      <th>0</th>\n",
       "      <td>tt0063540</td>\n",
       "      <td>Sunghursh</td>\n",
       "      <td>Sunghursh</td>\n",
       "      <td>2013</td>\n",
       "      <td>175.0</td>\n",
       "      <td>Action,Crime,Drama</td>\n",
       "      <td>7.0</td>\n",
       "      <td>77.0</td>\n",
       "      <td>[nm0712540]</td>\n",
       "      <td>[nm0023551, nm1194313, nm0347899, nm1391276]</td>\n",
       "      <td>[Harnam Singh Rawail]</td>\n",
       "      <td>[Abrar Alvi, Mahasweta Devi, Gulzar, Anjana Ra...</td>\n",
       "    </tr>\n",
       "    <tr>\n",
       "      <th>1</th>\n",
       "      <td>tt0066787</td>\n",
       "      <td>One Day Before the Rainy Season</td>\n",
       "      <td>Ashad Ka Ek Din</td>\n",
       "      <td>2019</td>\n",
       "      <td>114.0</td>\n",
       "      <td>Biography,Drama</td>\n",
       "      <td>7.2</td>\n",
       "      <td>43.0</td>\n",
       "      <td>[nm0002411]</td>\n",
       "      <td>[None]</td>\n",
       "      <td>[Mani Kaul]</td>\n",
       "      <td>[None]</td>\n",
       "    </tr>\n",
       "    <tr>\n",
       "      <th>2</th>\n",
       "      <td>tt0069049</td>\n",
       "      <td>The Other Side of the Wind</td>\n",
       "      <td>The Other Side of the Wind</td>\n",
       "      <td>2018</td>\n",
       "      <td>122.0</td>\n",
       "      <td>Drama</td>\n",
       "      <td>6.9</td>\n",
       "      <td>4517.0</td>\n",
       "      <td>[nm0000080]</td>\n",
       "      <td>[nm0000080, nm0462648]</td>\n",
       "      <td>[Orson Welles]</td>\n",
       "      <td>[Orson Welles, Oja Kodar]</td>\n",
       "    </tr>\n",
       "    <tr>\n",
       "      <th>3</th>\n",
       "      <td>tt0069204</td>\n",
       "      <td>Sabse Bada Sukh</td>\n",
       "      <td>Sabse Bada Sukh</td>\n",
       "      <td>2018</td>\n",
       "      <td>NaN</td>\n",
       "      <td>Comedy,Drama</td>\n",
       "      <td>6.1</td>\n",
       "      <td>13.0</td>\n",
       "      <td>[nm0611531]</td>\n",
       "      <td>[nm0347899]</td>\n",
       "      <td>[Hrishikesh Mukherjee]</td>\n",
       "      <td>[Gulzar]</td>\n",
       "    </tr>\n",
       "    <tr>\n",
       "      <th>4</th>\n",
       "      <td>tt0100275</td>\n",
       "      <td>The Wandering Soap Opera</td>\n",
       "      <td>La Telenovela Errante</td>\n",
       "      <td>2017</td>\n",
       "      <td>80.0</td>\n",
       "      <td>Comedy,Drama,Fantasy</td>\n",
       "      <td>6.5</td>\n",
       "      <td>119.0</td>\n",
       "      <td>[nm0765384, nm0749914]</td>\n",
       "      <td>[nm1360635, nm0749914]</td>\n",
       "      <td>[Valeria Sarmiento, Raoul Ruiz]</td>\n",
       "      <td>[Pía Rey, Raoul Ruiz]</td>\n",
       "    </tr>\n",
       "  </tbody>\n",
       "</table>\n",
       "</div>"
      ],
      "text/plain": [
       "      tconst                    primary_title              original_title  \\\n",
       "0  tt0063540                        Sunghursh                   Sunghursh   \n",
       "1  tt0066787  One Day Before the Rainy Season             Ashad Ka Ek Din   \n",
       "2  tt0069049       The Other Side of the Wind  The Other Side of the Wind   \n",
       "3  tt0069204                  Sabse Bada Sukh             Sabse Bada Sukh   \n",
       "4  tt0100275         The Wandering Soap Opera       La Telenovela Errante   \n",
       "\n",
       "   start_year  runtime_minutes                genres  averagerating  numvotes  \\\n",
       "0        2013            175.0    Action,Crime,Drama            7.0      77.0   \n",
       "1        2019            114.0       Biography,Drama            7.2      43.0   \n",
       "2        2018            122.0                 Drama            6.9    4517.0   \n",
       "3        2018              NaN          Comedy,Drama            6.1      13.0   \n",
       "4        2017             80.0  Comedy,Drama,Fantasy            6.5     119.0   \n",
       "\n",
       "                directors                                       writers  \\\n",
       "0             [nm0712540]  [nm0023551, nm1194313, nm0347899, nm1391276]   \n",
       "1             [nm0002411]                                        [None]   \n",
       "2             [nm0000080]                        [nm0000080, nm0462648]   \n",
       "3             [nm0611531]                                   [nm0347899]   \n",
       "4  [nm0765384, nm0749914]                        [nm1360635, nm0749914]   \n",
       "\n",
       "                    Director_Names  \\\n",
       "0            [Harnam Singh Rawail]   \n",
       "1                      [Mani Kaul]   \n",
       "2                   [Orson Welles]   \n",
       "3           [Hrishikesh Mukherjee]   \n",
       "4  [Valeria Sarmiento, Raoul Ruiz]   \n",
       "\n",
       "                                       Writers_Names  \n",
       "0  [Abrar Alvi, Mahasweta Devi, Gulzar, Anjana Ra...  \n",
       "1                                             [None]  \n",
       "2                          [Orson Welles, Oja Kodar]  \n",
       "3                                           [Gulzar]  \n",
       "4                              [Pía Rey, Raoul Ruiz]  "
      ]
     },
     "execution_count": 43,
     "metadata": {},
     "output_type": "execute_result"
    }
   ],
   "source": [
    "imdbMaster.head()"
   ]
  },
  {
   "cell_type": "code",
   "execution_count": 41,
   "metadata": {},
   "outputs": [],
   "source": []
  },
  {
   "cell_type": "code",
   "execution_count": 42,
   "metadata": {},
   "outputs": [
    {
     "data": {
      "text/html": [
       "<div>\n",
       "<style scoped>\n",
       "    .dataframe tbody tr th:only-of-type {\n",
       "        vertical-align: middle;\n",
       "    }\n",
       "\n",
       "    .dataframe tbody tr th {\n",
       "        vertical-align: top;\n",
       "    }\n",
       "\n",
       "    .dataframe thead th {\n",
       "        text-align: right;\n",
       "    }\n",
       "</style>\n",
       "<table border=\"1\" class=\"dataframe\">\n",
       "  <thead>\n",
       "    <tr style=\"text-align: right;\">\n",
       "      <th></th>\n",
       "      <th>tconst</th>\n",
       "      <th>primary_title</th>\n",
       "      <th>original_title</th>\n",
       "      <th>start_year</th>\n",
       "      <th>runtime_minutes</th>\n",
       "      <th>genres</th>\n",
       "      <th>averagerating</th>\n",
       "      <th>numvotes</th>\n",
       "      <th>directors</th>\n",
       "      <th>writers</th>\n",
       "      <th>Director_Names</th>\n",
       "      <th>Writers_Names</th>\n",
       "    </tr>\n",
       "  </thead>\n",
       "  <tbody>\n",
       "  </tbody>\n",
       "</table>\n",
       "</div>"
      ],
      "text/plain": [
       "Empty DataFrame\n",
       "Columns: [tconst, primary_title, original_title, start_year, runtime_minutes, genres, averagerating, numvotes, directors, writers, Director_Names, Writers_Names]\n",
       "Index: []"
      ]
     },
     "execution_count": 42,
     "metadata": {},
     "output_type": "execute_result"
    }
   ],
   "source": []
  },
  {
   "cell_type": "code",
   "execution_count": null,
   "metadata": {},
   "outputs": [],
   "source": []
  }
 ],
 "metadata": {
  "kernelspec": {
   "display_name": "Python 3",
   "language": "python",
   "name": "python3"
  },
  "language_info": {
   "codemirror_mode": {
    "name": "ipython",
    "version": 3
   },
   "file_extension": ".py",
   "mimetype": "text/x-python",
   "name": "python",
   "nbconvert_exporter": "python",
   "pygments_lexer": "ipython3",
   "version": "3.6.9"
  }
 },
 "nbformat": 4,
 "nbformat_minor": 2
}
