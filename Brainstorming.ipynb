{
 "cells": [
  {
   "cell_type": "markdown",
   "metadata": {},
   "source": [
    "## Brainstorming"
   ]
  },
  {
   "cell_type": "markdown",
   "metadata": {},
   "source": [
    "First let's check out the data that we have to get an idea of what we're working with."
   ]
  },
  {
   "cell_type": "markdown",
   "metadata": {},
   "source": [
    "Loaded the csv files in. Looked at the data frames, seems like we can merge the imdb files into one using specific columnes in the dataframes."
   ]
  },
  {
   "cell_type": "markdown",
   "metadata": {},
   "source": [
    "# Types of Files\n",
    "\n",
    "**IMDB Files**\n",
    "<br>\n",
    "-imdbName\n",
    "<br>&emsp;Has info on the crew members.\n",
    "<br>&emsp;Can combine with Crew using the nconst.\n",
    "<br>\n",
    "-imdbTitleAkas\n",
    "<br>&emsp;Foreign titles for movies, has multiple entries for one title, need to group before merging\n",
    "<br>&emsp;Combine with imdbTitleBasic using title_id and tconst\n",
    "<br>\n",
    "-imdbTitleBasic\n",
    "<br>&emsp;Has basic movie info like Primary Title, Original Title, Start Year, Runtime, and Genre\n",
    "<br>\n",
    "-imdbTitleCrew\n",
    "<br>&emsp;Has info about directors and writes for movies.\n",
    "<br>&emsp;Combine with the Basic/Akas using tconst\n",
    "<br>\n",
    "-imdbTitlePrin\n",
    "<br>&emsp;Not really sure what this file is about, need to look into\n",
    "<br>\n",
    "-imbdbTitleRat\n",
    "<br>&emsp;Has rating for movies and the number of people that voted.\n",
    "<br><br>\n",
    "**RT Files**\n",
    "<br>&emsp;Can combine these two files using id. Multiple reviews for each movie.\n",
    "<br>\n",
    "-rtmovie\n",
    "<br>\n",
    "-rtreview\n",
    "<br><br>\n",
    "**TnmFiles**\n",
    "<br>\n",
    "-tnmmov\n",
    "<br>&emsp;Has data on budget and gross and also release date\n",
    "<br><br>\n",
    "**TMDB Files**\n",
    "<br>\n",
    "-tmdbmov\n",
    "<br>&emsp;Looks like reviews and ratings from different critics, not sure what id is referring to.\n",
    "<br><br>\n",
    "**Bom Files**\n",
    "<br>\n",
    "-BomGross\n",
    "<br>&emsp;Has Foreign and domestic gross and year"
   ]
  },
  {
   "cell_type": "code",
   "execution_count": null,
   "metadata": {},
   "outputs": [],
   "source": []
  }
 ],
 "metadata": {
  "kernelspec": {
   "display_name": "Python [conda env:learn-env] *",
   "language": "python",
   "name": "conda-env-learn-env-py"
  },
  "language_info": {
   "codemirror_mode": {
    "name": "ipython",
    "version": 3
   },
   "file_extension": ".py",
   "mimetype": "text/x-python",
   "name": "python",
   "nbconvert_exporter": "python",
   "pygments_lexer": "ipython3",
   "version": "3.6.9"
  }
 },
 "nbformat": 4,
 "nbformat_minor": 2
}
