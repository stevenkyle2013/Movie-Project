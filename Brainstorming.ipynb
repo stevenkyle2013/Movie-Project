{
 "cells": [
  {
   "cell_type": "markdown",
   "metadata": {},
   "source": [
    "# Brainstorming"
   ]
  },
  {
   "cell_type": "markdown",
   "metadata": {},
   "source": [
    "First let's check out the data that we have to get an idea of what we're working with."
   ]
  },
  {
   "cell_type": "markdown",
   "metadata": {},
   "source": [
    "Loaded the csv files in. Looked at the data frames, seems like we can merge the imdb files into one using specific columnes in the dataframes."
   ]
  },
  {
   "cell_type": "markdown",
   "metadata": {},
   "source": [
    "# Types of Files\n",
    "\n",
    "**IMDB Files** Work on first, Joined the tables I wanted to, a little bit of cleaning left. **This table going to be used for reviews/ratings**\n",
    "<br>\n",
    "-imdbName **Joined (Just the actual names)**\n",
    "<br>&emsp;Has info on the crew members.\n",
    "<br>&emsp;Can combine with Crew using the nconst.\n",
    "<br>\n",
    "-imdbTitleAkas (Dont Actually think this file will be helpful)\n",
    "<br>&emsp;Foreign titles for movies, has multiple entries for one title, need to group before merging\n",
    "<br>&emsp;Combine with imdbTitleBasic using title_id and tconst\n",
    "<br>\n",
    "-imdbTitleBasic **Joined**\n",
    "<br>&emsp;Has basic movie info like Primary Title, Original Title, Start Year, Runtime, and Genre\n",
    "<br>\n",
    "-imdbTitleCrew **Joined**\n",
    "<br>&emsp;Has info about directors and writes for movies.\n",
    "<br>&emsp;Combine with the Basic/Akas using tconst\n",
    "<br>\n",
    "-imdbTitlePrin\n",
    "<br>&emsp;Not really sure what this file is about, need to look into\n",
    "<br>\n",
    "-imbdbTitleRat **Joined**\n",
    "<br>&emsp;Has rating for movies and the number of people that voted.\n",
    "<br><br>\n",
    "**RT Files**\n",
    "<br>&emsp;Can combine these two files using id. Multiple reviews for each movie.\n",
    "<br>\n",
    "-rtmovie\n",
    "<br>\n",
    "-rtreview\n",
    "<br><br>\n",
    "**TnmFiles** Mostly Done, might have to clean up a little more when starting to plot. **Going to be used for Budget/Gross comparison and with season**\n",
    "<br>\n",
    "-tnmmov\n",
    "<br>&emsp;Has data on budget and gross and also release date\n",
    "<br>&emsp;Release Dates: Dec 31, seems to be a placeholder. Only 74 of them.\n",
    "<br>&emsp;Duplicate Entries (some are actually just remakes)\n",
    "<br>&emsp;ID column can be dropped, it just iterates from 1-100 over and over\n",
    "<br><br>\n",
    "**TMDB Files** Work on after TnmFiles **This table is going to be used for genre/popularity**\n",
    "<br>\n",
    "-tmdbmov\n",
    "<br>&emsp;Has genre, popularity, vote avg and number of votes and realease date\n",
    "<br>&emsp;Multiple entries for same id, get rid of duplicates\n",
    "<br>&emsp;Fill in genre column with actual genres rather than id's\n",
    "<br>&emsp;Drop all rows that don't have genre\n",
    "<br>&emsp;Maybe look into what to do for data with low vote_count\n",
    "<br><br>\n",
    "**Bom Files**\n",
    "<br>\n",
    "-BomGross\n",
    "<br>&emsp;Has Foreign and domestic gross and year and studio"
   ]
  },
  {
   "cell_type": "markdown",
   "metadata": {},
   "source": [
    "# Save Cleaned Data as a sql or csv"
   ]
  },
  {
   "cell_type": "markdown",
   "metadata": {},
   "source": [
    "# Questions?"
   ]
  },
  {
   "cell_type": "markdown",
   "metadata": {},
   "source": [
    "What genre makes the most money?\n",
    "<br>Is there a time of year movies make more money?\n",
    "<br>Should there be a cap on budget? Where when spending more than a certain amount doesn't net more profit?\n",
    "<br>Specific Directors we want to hire? Is there certain directors/writers that continue to get good ratings?"
   ]
  },
  {
   "cell_type": "code",
   "execution_count": null,
   "metadata": {},
   "outputs": [],
   "source": []
  }
 ],
 "metadata": {
  "kernelspec": {
   "display_name": "Python 3",
   "language": "python",
   "name": "python3"
  },
  "language_info": {
   "codemirror_mode": {
    "name": "ipython",
    "version": 3
   },
   "file_extension": ".py",
   "mimetype": "text/x-python",
   "name": "python",
   "nbconvert_exporter": "python",
   "pygments_lexer": "ipython3",
   "version": "3.6.9"
  }
 },
 "nbformat": 4,
 "nbformat_minor": 2
}
